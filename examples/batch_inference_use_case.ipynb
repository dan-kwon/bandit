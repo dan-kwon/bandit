{
 "cells": [
  {
   "attachments": {},
   "cell_type": "markdown",
   "metadata": {},
   "source": [
    "### Batch Inference Use Case\n",
    "\n",
    "The notebook below will walk through a use case in which the bandit algorithm utilizes batch inference. While realtime feedback is ideal and the most commonly discussed problem when analyzing multi-armed bandits, many applications of bandit algorithms will involve delayed feedback. An example of this would be discounts offered through emails as there is time between the point at which an email is sent and when a user opens the email or converts using the discount code offered."
   ]
  },
  {
   "cell_type": "code",
   "execution_count": 1,
   "metadata": {},
   "outputs": [
    {
     "ename": "ModuleNotFoundError",
     "evalue": "No module named 'banditcoot'",
     "output_type": "error",
     "traceback": [
      "\u001b[0;31m---------------------------------------------------------------------------\u001b[0m",
      "\u001b[0;31mModuleNotFoundError\u001b[0m                       Traceback (most recent call last)",
      "\u001b[1;32m/Users/danielkwon/Projects/_packages/banditcoot/examples/batch_inference_use_case.ipynb Cell 2\u001b[0m in \u001b[0;36m<cell line: 1>\u001b[0;34m()\u001b[0m\n\u001b[0;32m----> <a href='vscode-notebook-cell:/Users/danielkwon/Projects/_packages/banditcoot/examples/batch_inference_use_case.ipynb#W1sZmlsZQ%3D%3D?line=0'>1</a>\u001b[0m \u001b[39mfrom\u001b[39;00m \u001b[39mbanditcoot\u001b[39;00m\u001b[39m.\u001b[39;00m\u001b[39marms\u001b[39;00m \u001b[39mimport\u001b[39;00m BernoulliArm\n\u001b[1;32m      <a href='vscode-notebook-cell:/Users/danielkwon/Projects/_packages/banditcoot/examples/batch_inference_use_case.ipynb#W1sZmlsZQ%3D%3D?line=1'>2</a>\u001b[0m \u001b[39mfrom\u001b[39;00m \u001b[39mbanditcoot\u001b[39;00m\u001b[39m.\u001b[39;00m\u001b[39malgorithms\u001b[39;00m \u001b[39mimport\u001b[39;00m EpsilonGreedy\n\u001b[1;32m      <a href='vscode-notebook-cell:/Users/danielkwon/Projects/_packages/banditcoot/examples/batch_inference_use_case.ipynb#W1sZmlsZQ%3D%3D?line=2'>3</a>\u001b[0m \u001b[39mimport\u001b[39;00m \u001b[39mpandas\u001b[39;00m \u001b[39mas\u001b[39;00m \u001b[39mpd\u001b[39;00m\n",
      "\u001b[0;31mModuleNotFoundError\u001b[0m: No module named 'banditcoot'"
     ]
    }
   ],
   "source": [
    "from banditcoot.arms import BernoulliArm\n",
    "from banditcoot.algorithms import EpsilonGreedy\n",
    "import pandas as pd\n",
    "import numpy as np\n",
    "import seaborn as sns"
   ]
  },
  {
   "cell_type": "code",
   "execution_count": null,
   "metadata": {},
   "outputs": [],
   "source": [
    "n_iter                = 100\n",
    "horizon               = 200\n",
    "discounts             = [0.10, 0.20, 0.30, 0.40]\n",
    "true_conversion_rates = [0.03, 0.10, 0.12, 0.13]\n",
    "est_conversion_rates  = [0.05, 0.08, 0.12, 0.15]\n",
    "starting_counts       = [100, 100, 100, 100]\n",
    "arpu = [(1-i) * 69.99 for i in discounts]\n",
    "arms = [BernoulliArm(p) for p in true_conversion_rates]\n",
    "\n",
    "algo = EpsilonGreedy(\n",
    "    epsilon = 0.2,\n",
    "    n_arms = 4,\n",
    "    rewards = arpu,\n",
    "    conv_rates = est_conversion_rates,\n",
    "    counts=starting_counts\n",
    ")"
   ]
  },
  {
   "cell_type": "code",
   "execution_count": null,
   "metadata": {},
   "outputs": [],
   "source": [
    "np.array(true_conversion_rates) * np.array(arpu)\n",
    "np.array(est_conversion_rates) * np.array(arpu)"
   ]
  },
  {
   "cell_type": "code",
   "execution_count": null,
   "metadata": {},
   "outputs": [],
   "source": [
    "arm_values = pd.DataFrame(\n",
    "    columns = [\n",
    "        \"sim_num\",\n",
    "        \"cohort\",\n",
    "        \"arm_0_value\",\n",
    "        \"arm_1_value\",\n",
    "        \"arm_2_value\",\n",
    "        \"arm_3_value\"\n",
    "    ]\n",
    ")\n",
    "for i in range(n_iter):\n",
    "    \n",
    "    for j in range(horizon):\n",
    "\n",
    "        # get cohort of users\n",
    "        users = pd.DataFrame(\n",
    "            data = {\n",
    "                \"cohort\": 1,\n",
    "                \"user_id\": range(100)\n",
    "            }\n",
    "        )\n",
    "\n",
    "        # choose arms for cohort\n",
    "        users[\"arm\"] = [algo.select_arm() for w in users.user_id]\n",
    "\n",
    "        # record whether conversibn occurs\n",
    "        users[\"conversion\"] = users.apply(lambda row: arms[row[\"arm\"]].draw(), axis = 1).astype(int)\n",
    "\n",
    "        # record revenue from chosen arms for cohort\n",
    "        users[\"revenue\"] = users.apply(lambda row: row[\"conversion\"] * arpu[row[\"arm\"]], axis = 1)\n",
    "\n",
    "        # update estimated reward from k arms\n",
    "        for k in range(len(arms)):\n",
    "            \n",
    "            update_values = users.query(f\"arm=={k}\") \\\n",
    "                .agg({\n",
    "                    \"user_id\" : \"count\", \n",
    "                    \"conversion\" : \"sum\"\n",
    "                })\n",
    "            \n",
    "            algo.batch_update(\n",
    "                chosen_arm = k,\n",
    "                num_times_chosen = update_values[\"user_id\"], \n",
    "                num_successes = update_values[\"conversion\"]\n",
    "            )\n",
    "\n",
    "        # record \n",
    "        current_values = pd.DataFrame(\n",
    "            {\n",
    "                \"sim_num\": i,\n",
    "                \"cohort\": j,\n",
    "                \"arm_0_value\": [algo.values[0]],\n",
    "                \"arm_1_value\": [algo.values[1]],\n",
    "                \"arm_2_value\": [algo.values[2]],\n",
    "                \"arm_3_value\": [algo.values[3]]\n",
    "            }\n",
    "        )\n",
    "        arm_values = pd.concat([arm_values,current_values], axis = 0)"
   ]
  }
 ],
 "metadata": {
  "kernelspec": {
   "display_name": "Python 3",
   "language": "python",
   "name": "python3"
  },
  "language_info": {
   "codemirror_mode": {
    "name": "ipython",
    "version": 3
   },
   "file_extension": ".py",
   "mimetype": "text/x-python",
   "name": "python",
   "nbconvert_exporter": "python",
   "pygments_lexer": "ipython3",
   "version": "3.10.0"
  },
  "orig_nbformat": 4,
  "vscode": {
   "interpreter": {
    "hash": "ea1f1b75962e8479cdd31f745f7b88aa0f718a153ab100a859b7ce2822faba81"
   }
  }
 },
 "nbformat": 4,
 "nbformat_minor": 2
}
